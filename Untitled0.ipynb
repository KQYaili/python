{
  "nbformat": 4,
  "nbformat_minor": 0,
  "metadata": {
    "colab": {
      "provenance": [],
      "gpuType": "T4",
      "authorship_tag": "ABX9TyMAyk4p0VDJFtOxyhuezGl6",
      "include_colab_link": true
    },
    "kernelspec": {
      "name": "python3",
      "display_name": "Python 3"
    },
    "language_info": {
      "name": "python"
    },
    "accelerator": "GPU"
  },
  "cells": [
    {
      "cell_type": "markdown",
      "metadata": {
        "id": "view-in-github",
        "colab_type": "text"
      },
      "source": [
        "<a href=\"https://colab.research.google.com/github/KQYaili/python/blob/main/Untitled0.ipynb\" target=\"_parent\"><img src=\"https://colab.research.google.com/assets/colab-badge.svg\" alt=\"Open In Colab\"/></a>"
      ]
    },
    {
      "cell_type": "code",
      "execution_count": 2,
      "metadata": {
        "id": "AQL9gLvrR7jX"
      },
      "outputs": [],
      "source": [
        "import torch"
      ]
    },
    {
      "cell_type": "code",
      "source": [
        "x = torch.arange(12).reshape((3,4))\n",
        "x"
      ],
      "metadata": {
        "colab": {
          "base_uri": "https://localhost:8080/"
        },
        "id": "bJy4m6LSSWdX",
        "outputId": "31ea3c7d-95ca-4cba-ba80-267ad35b4f0e"
      },
      "execution_count": 16,
      "outputs": [
        {
          "output_type": "execute_result",
          "data": {
            "text/plain": [
              "tensor([[ 0,  1,  2,  3],\n",
              "        [ 4,  5,  6,  7],\n",
              "        [ 8,  9, 10, 11]])"
            ]
          },
          "metadata": {},
          "execution_count": 16
        }
      ]
    },
    {
      "cell_type": "code",
      "source": [
        "x=torch.tensor([1,2,4,8])\n",
        "y=torch.tensor([2,2,3,3])\n",
        "x+y"
      ],
      "metadata": {
        "colab": {
          "base_uri": "https://localhost:8080/"
        },
        "id": "c45w9VvJSiQV",
        "outputId": "5ee27b83-f835-42bf-c5ea-4181466e3368"
      },
      "execution_count": 3,
      "outputs": [
        {
          "output_type": "execute_result",
          "data": {
            "text/plain": [
              "tensor([ 3,  4,  7, 11])"
            ]
          },
          "metadata": {},
          "execution_count": 3
        }
      ]
    },
    {
      "cell_type": "code",
      "source": [
        "torch.cuda.is_available()\n",
        "# torch.cuda.device_count()\n",
        "# torch.version.cuda\n",
        "# torch.__version__"
      ],
      "metadata": {
        "colab": {
          "base_uri": "https://localhost:8080/"
        },
        "id": "ha3lFl1STASJ",
        "outputId": "0571fc4c-f354-4d20-8bc6-4743115f5bee"
      },
      "execution_count": 7,
      "outputs": [
        {
          "output_type": "execute_result",
          "data": {
            "text/plain": [
              "True"
            ]
          },
          "metadata": {},
          "execution_count": 7
        }
      ]
    },
    {
      "cell_type": "code",
      "source": [
        "y=torch.tensor([[2,4,4,2],[3,2,4,5],[3,5,2,5],[1,5,6,2]])"
      ],
      "metadata": {
        "id": "5vMG5w5ITvcx"
      },
      "execution_count": 10,
      "outputs": []
    },
    {
      "cell_type": "code",
      "source": [
        "before=id(x)\n",
        "x=x*x\n",
        "x,id(x)==before,id(y)"
      ],
      "metadata": {
        "colab": {
          "base_uri": "https://localhost:8080/"
        },
        "id": "a2JZmT60UQuj",
        "outputId": "b9daface-de47-447f-b02b-05bd30b2330f"
      },
      "execution_count": 20,
      "outputs": [
        {
          "output_type": "execute_result",
          "data": {
            "text/plain": [
              "(tensor([[                0,                 1,             65536,\n",
              "                   43046721],\n",
              "         [       4294967296,      152587890625,     2821109907456,\n",
              "             33232930569601],\n",
              "         [  281474976710656,  1853020188851841, 10000000000000000,\n",
              "          45949729863572161]]),\n",
              " False,\n",
              " 139618602681840)"
            ]
          },
          "metadata": {},
          "execution_count": 20
        }
      ]
    }
  ]
}